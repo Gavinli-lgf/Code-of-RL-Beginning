{
 "cells": [
  {
   "cell_type": "code",
   "execution_count": 1,
   "id": "37a7e12f-f2e3-4c43-8e36-015de3604d54",
   "metadata": {},
   "outputs": [],
   "source": [
    "import numpy as np     #只需要下载numpy库即可\n",
    "import random\n",
    "import GridWorld_v2\n",
    "import time\n",
    "from IPython.display import clear_output"
   ]
  },
  {
   "cell_type": "code",
   "execution_count": 2,
   "id": "ac000c90-20a9-47bc-a1b5-b024fa7e15b8",
   "metadata": {},
   "outputs": [
    {
     "name": "stdout",
     "output_type": "stream",
     "text": [
      "⬜️⬜️⬜️⬜️⬜️\n",
      "⬜️🚫🚫⬜️⬜️\n",
      "⬜️⬜️🚫⬜️⬜️\n",
      "⬜️🚫✅🚫⬜️\n",
      "⬜️🚫⬜️⬜️⬜️\n"
     ]
    }
   ],
   "source": [
    "rows = 5      #记得行数和列数这里要同步改\n",
    "columns = 5\n",
    "\n",
    "# gridworld = GridWorld_v2.GridWorld_v2(rows=rows, columns=columns, forbiddenAreaNums=8, targetNums=2, seed = 52,forbiddenAreaScore=-10)\n",
    "# gridworld = GridWorld_v2.GridWorld_v2(desc = [\".#\",\".T\"])             #赵老师4-1的例子\n",
    "# gridworld = GridWorld_v2.GridWorld_v2(desc = [\"##.T\",\"...#\",\"....\"])  #随便弄的例子\n",
    "gridworld = GridWorld_v2.GridWorld_v2(forbiddenAreaScore=-10, score=1,desc = [\".....\",\".##..\",\"..#..\",\".#T#.\",\".#...\"]) \n",
    "#gridworld = GridWorld_v2(forbiddenAreaScore=-10, score=1,desc = [\"T.\"]) \n",
    "gridworld.show()\n",
    "\n",
    "\n",
    "value = np.zeros(rows*columns)       #初始化可以任意，也可以全0\n",
    "qtable = np.zeros((rows*columns,5))  #初始化，这里主要是初始化维数，里面的内容会被覆盖所以无所谓\n"
   ]
  },
  {
   "cell_type": "code",
   "execution_count": 18,
   "id": "15a46be9-7733-4e26-b87a-f0f45962784a",
   "metadata": {},
   "outputs": [],
   "source": [
    "def feature_function(state, action):\n",
    "    x = state // 5\n",
    "    y = state %  5\n",
    "    features = [x,y,x*y,action]\n",
    "    return np.array(features)"
   ]
  },
  {
   "cell_type": "code",
   "execution_count": 19,
   "id": "5793b745-0ea8-421c-bafb-6dfe5f4e459f",
   "metadata": {},
   "outputs": [],
   "source": [
    "def q_function_approximation(state, action, weights):\n",
    "    features = feature_function(state, action)\n",
    "    q_value = np.dot(weights, features)\n",
    "    return q_value"
   ]
  },
  {
   "cell_type": "code",
   "execution_count": 5,
   "id": "69f7e78c-d5fc-45fa-b39f-09c6c3763fd7",
   "metadata": {},
   "outputs": [],
   "source": [
    "import math"
   ]
  },
  {
   "cell_type": "code",
   "execution_count": 20,
   "id": "69064478-274c-4ae0-815a-6ca518cef203",
   "metadata": {},
   "outputs": [],
   "source": [
    "def QLearning_Off_Policy(gridworld:GridWorld_v2.GridWorld_v2, grad, w,TrajectoryPoolSize = 50,gamma = 0.99,trajectorySteps=-1, learning_rate=0.001, num_episodes=600)->GridWorld_v2.GridWorld_v2:\n",
    "    \"\"\"\n",
    "    这是最基础的SARSA算法\n",
    "\n",
    "    Parameters:\n",
    "    trajectorySteps (int): 寻路的轨迹长度，如果是-1，则为寻到目的则停止，否则参数即为trajectory长度\n",
    "    learning_rate (float): 学习率，用于调节TD-target\n",
    "    epsilon (float): epsilon-greedy的核心参数，0~1的浮点数，其中1则表示当前state所有决策概率一样，0则表示决策没有任何的随机性\n",
    "    num_episodes (int): 表示模型迭代次数\n",
    "\n",
    "    Returns:\n",
    "    GridWorld_v2.GridWorld_v2: 把模型返回回去\n",
    "    \"\"\"\n",
    "    \n",
    "    state_value = np.zeros((rows * columns))\n",
    "    action_value = np.zeros((rows * columns, 5))\n",
    "    policy = np.eye(5)[np.random.randint(0,5,size=(rows*columns))] \n",
    "    # behavior_policy = 1000\n",
    "    behavior_policy = np.ones((rows * columns, 5)) * 0.2\n",
    "    epsilon = 0.5\n",
    "    \n",
    "    initState=10\n",
    "\n",
    "    TrajectoryPool = []\n",
    "    TrajectoryPoolSize = 50\n",
    "    for i in range(TrajectoryPoolSize):\n",
    "        if trajectorySteps==-1:\n",
    "            stop_when_reach_target = True\n",
    "            # 注意这里的返回值是大小为(trajectorySteps+1)的元组列表，因为把第一个动作也加入进去了\n",
    "            # 这里改成behavior_policy\n",
    "            Trajectory = gridworld.getTrajectoryScore(nowState=initState, \n",
    "                                                      action=random.randint(0,4) , \n",
    "                                                      policy=behavior_policy, \n",
    "                                                      steps=trajectorySteps, \n",
    "                                                      stop_when_reach_target=True)\n",
    "        TrajectoryPool.append(Trajectory)\n",
    "        \n",
    "    for episode in range(num_episodes):\n",
    "        #清除输出，可以更好的展示策略\n",
    "        \n",
    "        #cnt数组用来检查每个state有多少次访问\n",
    "        cnt = [0 for i in range(25)]\n",
    "        \n",
    "        for Trajectory in TrajectoryPool:\n",
    "            steps = len(Trajectory) - 1\n",
    "            for k in range(steps,-1,-1):\n",
    "                #State，Action，Reward，NextState，NextAction\n",
    "                tmpstate, tmpaction, tmpscore, nextState, nextAction  = Trajectory[k]\n",
    "                cnt[tmpstate] += 1\n",
    "                nowX, nowY, nextX, nextY = tmpstate//5,tmpstate%5,nextState//5,nextState%5\n",
    "\n",
    "                \n",
    "                nextMax = max(grad(nextX,nextY,i) @ w for i in range(5))\n",
    "                nowMax = max(grad(nowX,nowY,i) @ w for i in range(5))\n",
    "                TD_error = (tmpscore + gamma * nextMax) - grad(nowX,nowY,tmpaction) @ w\n",
    "                w += learning_rate * TD_error * grad(nowX, nowY,tmpaction)\n",
    "\n",
    "        # policy improvement\n",
    "        # policy = np.eye(5)[np.argmax(action_value,axis=1)]  #qtable的最优值作为更新策略，并用独热码来表示\n",
    "        tmp_policy = []\n",
    "        for i in range(25):\n",
    "            x = i//5\n",
    "            y = i%5\n",
    "            maxx = grad(x,y,0)@w\n",
    "            index = 0\n",
    "            for action in range(5):\n",
    "                # print(grad(x,y,action)@w)\n",
    "                if grad(x,y,action)@w>maxx:\n",
    "                    maxx = grad(x,y,action)@w\n",
    "                    index = action\n",
    "            tmp_policy.append(index)\n",
    "            \n",
    "        # print(tmp_policy)\n",
    "        policy = np.eye(5)[tmp_policy]  #qtable的最优值作为更新策略，并用独热码来表示\n",
    "        \n",
    "        if episode % 10 == 0:\n",
    "            print(\"episode\",f\"{episode}/{num_episodes}\")\n",
    "            print((TD_error * grad(2,0,tmpaction)).mean())\n",
    "            gridworld.showPolicy(policy)\n",
    "\n",
    "    return action_value\n",
    "    "
   ]
  },
  {
   "cell_type": "code",
   "execution_count": 27,
   "id": "cbbe0bcd-a814-4171-8c48-ac66518c95a0",
   "metadata": {},
   "outputs": [
    {
     "name": "stdout",
     "output_type": "stream",
     "text": [
      "episode 0/600\n",
      "-2.250211183410439\n",
      "🔄🔄🔄🔄🔄\n",
      "🔄🔄🔄🔄🔄\n",
      "🔄🔄🔄🔄🔄\n",
      "🔄🔄✅🔄🔄\n",
      "🔄🔄🔄🔄🔄\n",
      "episode 10/600\n",
      "-636.5047210464556\n",
      "🔄🔄🔄🔄🔄\n",
      "🔄🔄🔄🔄🔄\n",
      "🔄🔄🔄🔄🔄\n",
      "🔄🔄✅🔄🔄\n",
      "🔄🔄🔄🔄🔄\n",
      "episode 20/600\n",
      "-584333.328970357\n",
      "🔄🔄🔄🔄🔄\n",
      "🔄🔄🔄🔄🔄\n",
      "🔄🔄🔄🔄🔄\n",
      "🔄🔄✅🔄🔄\n",
      "🔄🔄🔄🔄🔄\n",
      "episode 30/600\n",
      "-539949388.7002265\n",
      "🔄🔄🔄🔄🔄\n",
      "🔄🔄🔄🔄🔄\n",
      "🔄🔄🔄🔄🔄\n",
      "🔄🔄✅🔄🔄\n",
      "🔄🔄🔄🔄🔄\n",
      "episode 40/600\n",
      "-498945040120.8951\n",
      "🔄🔄🔄🔄🔄\n",
      "🔄🔄🔄🔄🔄\n",
      "🔄🔄🔄🔄🔄\n",
      "🔄🔄✅🔄🔄\n",
      "🔄🔄🔄🔄🔄\n",
      "episode 50/600\n",
      "-461054625699621.44\n",
      "🔄🔄🔄🔄🔄\n",
      "🔄🔄🔄🔄🔄\n",
      "🔄🔄🔄🔄🔄\n",
      "🔄🔄✅🔄🔄\n",
      "🔄🔄🔄🔄🔄\n"
     ]
    },
    {
     "ename": "KeyboardInterrupt",
     "evalue": "",
     "output_type": "error",
     "traceback": [
      "\u001b[1;31m---------------------------------------------------------------------------\u001b[0m",
      "\u001b[1;31mKeyboardInterrupt\u001b[0m                         Traceback (most recent call last)",
      "Cell \u001b[1;32mIn[27], line 4\u001b[0m\n\u001b[0;32m      2\u001b[0m np\u001b[38;5;241m.\u001b[39mrandom\u001b[38;5;241m.\u001b[39mseed(\u001b[38;5;241m1\u001b[39m)\n\u001b[0;32m      3\u001b[0m w \u001b[38;5;241m=\u001b[39m np\u001b[38;5;241m.\u001b[39mrandom\u001b[38;5;241m.\u001b[39mrand(\u001b[38;5;241m13\u001b[39m)\n\u001b[1;32m----> 4\u001b[0m \u001b[43mQLearning_Off_Policy\u001b[49m\u001b[43m(\u001b[49m\u001b[43mgridworld\u001b[49m\u001b[43m,\u001b[49m\u001b[43m \u001b[49m\u001b[43mgrad\u001b[49m\u001b[38;5;241;43m=\u001b[39;49m\u001b[43mgrad\u001b[49m\u001b[43m,\u001b[49m\u001b[43m \u001b[49m\u001b[43mw\u001b[49m\u001b[38;5;241;43m=\u001b[39;49m\u001b[43mw\u001b[49m\u001b[43m,\u001b[49m\u001b[43m \u001b[49m\u001b[43mlearning_rate\u001b[49m\u001b[38;5;241;43m=\u001b[39;49m\u001b[38;5;241;43m0.000001\u001b[39;49m\u001b[43m)\u001b[49m\n",
      "Cell \u001b[1;32mIn[20], line 54\u001b[0m, in \u001b[0;36mQLearning_Off_Policy\u001b[1;34m(gridworld, grad, w, TrajectoryPoolSize, gamma, trajectorySteps, learning_rate, num_episodes)\u001b[0m\n\u001b[0;32m     50\u001b[0m nowX, nowY, nextX, nextY \u001b[38;5;241m=\u001b[39m tmpstate\u001b[38;5;241m/\u001b[39m\u001b[38;5;241m/\u001b[39m\u001b[38;5;241m5\u001b[39m,tmpstate\u001b[38;5;241m%\u001b[39m\u001b[38;5;241m5\u001b[39m,nextState\u001b[38;5;241m/\u001b[39m\u001b[38;5;241m/\u001b[39m\u001b[38;5;241m5\u001b[39m,nextState\u001b[38;5;241m%\u001b[39m\u001b[38;5;241m5\u001b[39m\n\u001b[0;32m     53\u001b[0m nextMax \u001b[38;5;241m=\u001b[39m \u001b[38;5;28mmax\u001b[39m(grad(nextX,nextY,i) \u001b[38;5;241m@\u001b[39m w \u001b[38;5;28;01mfor\u001b[39;00m i \u001b[38;5;129;01min\u001b[39;00m \u001b[38;5;28mrange\u001b[39m(\u001b[38;5;241m5\u001b[39m))\n\u001b[1;32m---> 54\u001b[0m nowMax \u001b[38;5;241m=\u001b[39m \u001b[38;5;28;43mmax\u001b[39;49m\u001b[43m(\u001b[49m\u001b[43mgrad\u001b[49m\u001b[43m(\u001b[49m\u001b[43mnowX\u001b[49m\u001b[43m,\u001b[49m\u001b[43mnowY\u001b[49m\u001b[43m,\u001b[49m\u001b[43mi\u001b[49m\u001b[43m)\u001b[49m\u001b[43m \u001b[49m\u001b[38;5;241;43m@\u001b[39;49m\u001b[43m \u001b[49m\u001b[43mw\u001b[49m\u001b[43m \u001b[49m\u001b[38;5;28;43;01mfor\u001b[39;49;00m\u001b[43m \u001b[49m\u001b[43mi\u001b[49m\u001b[43m \u001b[49m\u001b[38;5;129;43;01min\u001b[39;49;00m\u001b[43m \u001b[49m\u001b[38;5;28;43mrange\u001b[39;49m\u001b[43m(\u001b[49m\u001b[38;5;241;43m5\u001b[39;49m\u001b[43m)\u001b[49m\u001b[43m)\u001b[49m\n\u001b[0;32m     55\u001b[0m TD_error \u001b[38;5;241m=\u001b[39m (tmpscore \u001b[38;5;241m+\u001b[39m gamma \u001b[38;5;241m*\u001b[39m nextMax) \u001b[38;5;241m-\u001b[39m grad(nowX,nowY,tmpaction) \u001b[38;5;241m@\u001b[39m w\n\u001b[0;32m     56\u001b[0m w \u001b[38;5;241m+\u001b[39m\u001b[38;5;241m=\u001b[39m learning_rate \u001b[38;5;241m*\u001b[39m TD_error \u001b[38;5;241m*\u001b[39m grad(nowX, nowY,tmpaction)\n",
      "Cell \u001b[1;32mIn[20], line 54\u001b[0m, in \u001b[0;36m<genexpr>\u001b[1;34m(.0)\u001b[0m\n\u001b[0;32m     50\u001b[0m nowX, nowY, nextX, nextY \u001b[38;5;241m=\u001b[39m tmpstate\u001b[38;5;241m/\u001b[39m\u001b[38;5;241m/\u001b[39m\u001b[38;5;241m5\u001b[39m,tmpstate\u001b[38;5;241m%\u001b[39m\u001b[38;5;241m5\u001b[39m,nextState\u001b[38;5;241m/\u001b[39m\u001b[38;5;241m/\u001b[39m\u001b[38;5;241m5\u001b[39m,nextState\u001b[38;5;241m%\u001b[39m\u001b[38;5;241m5\u001b[39m\n\u001b[0;32m     53\u001b[0m nextMax \u001b[38;5;241m=\u001b[39m \u001b[38;5;28mmax\u001b[39m(grad(nextX,nextY,i) \u001b[38;5;241m@\u001b[39m w \u001b[38;5;28;01mfor\u001b[39;00m i \u001b[38;5;129;01min\u001b[39;00m \u001b[38;5;28mrange\u001b[39m(\u001b[38;5;241m5\u001b[39m))\n\u001b[1;32m---> 54\u001b[0m nowMax \u001b[38;5;241m=\u001b[39m \u001b[38;5;28mmax\u001b[39m(\u001b[43mgrad\u001b[49m\u001b[43m(\u001b[49m\u001b[43mnowX\u001b[49m\u001b[43m,\u001b[49m\u001b[43mnowY\u001b[49m\u001b[43m,\u001b[49m\u001b[43mi\u001b[49m\u001b[43m)\u001b[49m\u001b[43m \u001b[49m\u001b[38;5;241;43m@\u001b[39;49m\u001b[43m \u001b[49m\u001b[43mw\u001b[49m \u001b[38;5;28;01mfor\u001b[39;00m i \u001b[38;5;129;01min\u001b[39;00m \u001b[38;5;28mrange\u001b[39m(\u001b[38;5;241m5\u001b[39m))\n\u001b[0;32m     55\u001b[0m TD_error \u001b[38;5;241m=\u001b[39m (tmpscore \u001b[38;5;241m+\u001b[39m gamma \u001b[38;5;241m*\u001b[39m nextMax) \u001b[38;5;241m-\u001b[39m grad(nowX,nowY,tmpaction) \u001b[38;5;241m@\u001b[39m w\n\u001b[0;32m     56\u001b[0m w \u001b[38;5;241m+\u001b[39m\u001b[38;5;241m=\u001b[39m learning_rate \u001b[38;5;241m*\u001b[39m TD_error \u001b[38;5;241m*\u001b[39m grad(nowX, nowY,tmpaction)\n",
      "\u001b[1;31mKeyboardInterrupt\u001b[0m: "
     ]
    }
   ],
   "source": [
    "grad = lambda x,y,z: np.array([1, x, y, z, x*x, y*y, z*z, x*y, x*z, y*z, x*x*y, x*y*y,z**3] )\n",
    "np.random.seed(1)\n",
    "w = np.random.rand(13)\n",
    "QLearning_Off_Policy(gridworld, grad=grad, w=w, learning_rate=0.000001)"
   ]
  },
  {
   "cell_type": "code",
   "execution_count": null,
   "id": "0b790682-cb1e-449a-9d20-10a1502da0d8",
   "metadata": {},
   "outputs": [],
   "source": []
  }
 ],
 "metadata": {
  "kernelspec": {
   "display_name": "Python 3 (ipykernel)",
   "language": "python",
   "name": "python3"
  },
  "language_info": {
   "codemirror_mode": {
    "name": "ipython",
    "version": 3
   },
   "file_extension": ".py",
   "mimetype": "text/x-python",
   "name": "python",
   "nbconvert_exporter": "python",
   "pygments_lexer": "ipython3",
   "version": "3.8.18"
  }
 },
 "nbformat": 4,
 "nbformat_minor": 5
}
