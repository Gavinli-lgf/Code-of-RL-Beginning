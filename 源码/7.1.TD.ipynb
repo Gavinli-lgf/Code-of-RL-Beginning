{
 "cells": [
  {
   "cell_type": "code",
   "execution_count": 1,
   "id": "8b4ab64a-c1b6-4247-bb4b-9c72ebf63778",
   "metadata": {},
   "outputs": [],
   "source": [
    "import numpy as np     #只需要下载numpy库即可\n",
    "import random\n",
    "import GridWorld_v2"
   ]
  },
  {
   "cell_type": "code",
   "execution_count": 2,
   "id": "ad418bf1-1806-4c6d-830a-498b9c371405",
   "metadata": {},
   "outputs": [
    {
     "name": "stdout",
     "output_type": "stream",
     "text": [
      "⬜️⬜️⬜️⬜️⬜️\n",
      "⬜️🚫🚫⬜️⬜️\n",
      "⬜️⬜️🚫⬜️⬜️\n",
      "⬜️🚫✅🚫⬜️\n",
      "⬜️🚫⬜️⬜️⬜️\n",
      "🔄⬅️⬇️⬇️⬆️\n",
      "➡️⏩️⏩️⬆️➡️\n",
      "🔄⬆️⏩️⬇️🔄\n",
      "🔄🔄✅⏬🔄\n",
      "➡️⏬⬆️⬅️⬇️\n"
     ]
    }
   ],
   "source": [
    "gamma = 0.9   #折扣因子，越接近0越近视\n",
    "\n",
    "rows = 5      #记得行数和列数这里要同步改\n",
    "columns = 5\n",
    "\n",
    "# gridworld = GridWorld_v2.GridWorld_v2(rows=rows, columns=columns, forbiddenAreaNums=8, targetNums=2, seed = 52,forbiddenAreaScore=-10)\n",
    "# gridworld = GridWorld_v2.GridWorld_v2(desc = [\".#\",\".T\"])             #赵老师4-1的例子\n",
    "# gridworld = GridWorld_v2.GridWorld_v2(desc = [\"##.T\",\"...#\",\"....\"])  #随便弄的例子\n",
    "gridworld = GridWorld_v2.GridWorld_v2(forbiddenAreaScore=-10, score=1,desc = [\".....\",\".##..\",\"..#..\",\".#T#.\",\".#...\"]) \n",
    "#gridworld = GridWorld_v2(forbiddenAreaScore=-10, score=1,desc = [\"T.\"]) \n",
    "gridworld.show()\n",
    "\n",
    "\n",
    "value = np.zeros(rows*columns)       #初始化可以任意，也可以全0\n",
    "qtable = np.zeros((rows*columns,5))  #初始化，这里主要是初始化维数，里面的内容会被覆盖所以无所谓\n",
    "\n",
    "# np.random.seed(50)\n",
    "policy = np.eye(5)[np.random.randint(0,5,size=(rows*columns))] \n",
    "gridworld.showPolicy(policy)"
   ]
  },
  {
   "cell_type": "code",
   "execution_count": 3,
   "id": "6f0be645-73c7-44ef-a92c-d57879825e6a",
   "metadata": {},
   "outputs": [],
   "source": [
    "epsilon = 0.99\n",
    "p1 = 1-epsilon * (4/5)\n",
    "p2 = epsilon/5\n",
    "d = {1:p1, 0:p2}\n",
    "a2 = np.vectorize(d.get)(policy)"
   ]
  },
  {
   "cell_type": "code",
   "execution_count": 4,
   "id": "21a97f3b-25a4-4071-be6d-92b8b4f541c8",
   "metadata": {},
   "outputs": [],
   "source": [
    "from IPython.display import clear_output\n",
    "clear_output(wait=True)"
   ]
  },
  {
   "cell_type": "code",
   "execution_count": 9,
   "id": "55a61507-1f32-4431-aa4b-7e3b3c5825e4",
   "metadata": {},
   "outputs": [
    {
     "name": "stdout",
     "output_type": "stream",
     "text": [
      "[[772 815 797 791 853]\n",
      " [820 796 708 746 830]\n",
      " [800 868 795 753 812]\n",
      " [834 826 794 753 832]\n",
      " [793 848 844 762 759]]\n",
      "[[ -8.74387452 -13.11109709 -12.83257726  -6.52333652  -4.17916907]\n",
      " [-12.90248798 -17.43554161 -19.45556792 -11.75041921  -5.55968301]\n",
      " [-12.25564467 -21.34207689 -18.92432367 -15.30951795  -7.34541814]\n",
      " [-14.33239573 -19.40868338 -20.05573878 -13.37984416  -9.14529195]\n",
      " [-15.82398342 -18.94862052 -15.75685571 -11.78628044  -6.97189568]]\n",
      "➡️⬇️⬅️⬅️⬆️\n",
      "➡️⏫️⏩️⬇️➡️\n",
      "⬆️🔄🔄⬅️🔄\n",
      "⬆️⏪✅⏩️⬆️\n",
      "➡️⏩️➡️⬇️⬇️\n",
      "-13.331213009326047\n"
     ]
    }
   ],
   "source": [
    "#通过采样的方法计算action value，model free的话意味着不知道整个gridworld的概率了，所以不能直接套贝尔曼方程迭代求解\n",
    "policy = np.eye(5)[np.random.randint(0,5,size=(rows*columns))] \n",
    "gridworld.show()\n",
    "gridworld.showPolicy(policy)\n",
    "print(\"random policy\")\n",
    "\n",
    "\n",
    "trajectorySteps = 20000\n",
    "learning_rate = 0.01\n",
    "epsilon = 1\n",
    "# qtable = np.zeros((rows*columns,5))    #生成Qtable，也就是action-value-table\n",
    "state_value = np.zeros((rows * columns))\n",
    "\n",
    "num_episodes = 6000\n",
    "for episode in range(num_episodes):\n",
    "    # \n",
    "    if(epsilon > 0.001) :\n",
    "        epsilon -= 0.001\n",
    "    else:\n",
    "        epsilon = 0.001\n",
    "        \n",
    "    p1 = 1-epsilon * (4/5)\n",
    "    p0 = epsilon/5\n",
    "    # trajectorySteps = int(20+epsilon*1000)\n",
    "    print(\"trajectorySteps\",trajectorySteps)\n",
    "    print(f\"epision:{epsilon}, p1:{p1}, p0:{p0}\")\n",
    "    \n",
    "    d = {1:p1, 0:p0}\n",
    "    policy_epsilon = np.vectorize(d.get)(policy)\n",
    "    \n",
    "    i = random.randint(0,24)  #初始状态\n",
    "    j = random.randint(0,4)\n",
    "    \n",
    "    cnt = [0 for i in range(25)]\n",
    "    \n",
    "    Trajectory = gridworld.getTrajectoryScore(nowState=i, action=j, policy=policy_epsilon, steps=trajectorySteps, stop_when_reach_target=False)\n",
    "    # if(len(Trajectory)>5000):\n",
    "    #     continue\n",
    "    clear_output(wait=True)\n",
    "    # 注意这里的返回值是大小为(trajectorySteps+1)的元组列表，因为把第一个动作也加入进去了\n",
    "    steps = len(Trajectory) - 1\n",
    "    for k in range(steps,-1,-1):\n",
    "        tmpstate, tmpaction, tmpscore, nextState, nextAction  = Trajectory[k]\n",
    "        cnt[tmpstate] += 1\n",
    "        TD_error = state_value[tmpstate] - (tmpscore + gamma * state_value[nextState])\n",
    "        state_value[tmpstate] = state_value[tmpstate] - learning_rate * TD_error\n",
    "        \n",
    "    print(np.array(cnt).reshape(5,5))\n",
    "    for i in range(rows * columns):\n",
    "        for j in range(5):\n",
    "            score,nextState = gridworld.getScore(i,j) \n",
    "            qtable[i][j] = score + gamma * value[nextState]\n",
    "    \n",
    "    print(state_value.reshape(5,5))\n",
    "    gridworld.showPolicy(policy)\n",
    "    print(np.array(state_value).mean())\n",
    "    \n",
    "    \n",
    "    policy = np.eye(5)[np.argmax(qtable,axis=1)]  #qtable的最优值作为更新策略，并用独热码来表示\n",
    "    policy_epsilon = np.vectorize(d.get)(policy)\n",
    "\n",
    "    break\n",
    "    # print(np.array(cnt).reshape(5,5))\n",
    "\n",
    "\n",
    "    \n",
    "\n",
    "\n",
    "    "
   ]
  },
  {
   "cell_type": "code",
   "execution_count": null,
   "id": "d3a8ea74-d550-4b8e-8d12-75cac359e49d",
   "metadata": {},
   "outputs": [],
   "source": []
  },
  {
   "cell_type": "code",
   "execution_count": 46,
   "id": "7a4a2364-442e-45ff-8a82-64fee05919ee",
   "metadata": {},
   "outputs": [
    {
     "data": {
      "text/plain": [
       "array([[0.2, 0.2, 0.2, 0.2, 0.2],\n",
       "       [0.2, 0.2, 0.2, 0.2, 0.2],\n",
       "       [0.2, 0.2, 0.2, 0.2, 0.2],\n",
       "       [0.2, 0.2, 0.2, 0.2, 0.2],\n",
       "       [0.2, 0.2, 0.2, 0.2, 0.2],\n",
       "       [0.2, 0.2, 0.2, 0.2, 0.2],\n",
       "       [0.2, 0.2, 0.2, 0.2, 0.2],\n",
       "       [0.2, 0.2, 0.2, 0.2, 0.2],\n",
       "       [0.2, 0.2, 0.2, 0.2, 0.2],\n",
       "       [0.2, 0.2, 0.2, 0.2, 0.2],\n",
       "       [0.2, 0.2, 0.2, 0.2, 0.2],\n",
       "       [0.2, 0.2, 0.2, 0.2, 0.2],\n",
       "       [0.2, 0.2, 0.2, 0.2, 0.2],\n",
       "       [0.2, 0.2, 0.2, 0.2, 0.2],\n",
       "       [0.2, 0.2, 0.2, 0.2, 0.2],\n",
       "       [0.2, 0.2, 0.2, 0.2, 0.2],\n",
       "       [0.2, 0.2, 0.2, 0.2, 0.2],\n",
       "       [0.2, 0.2, 0.2, 0.2, 0.2],\n",
       "       [0.2, 0.2, 0.2, 0.2, 0.2],\n",
       "       [0.2, 0.2, 0.2, 0.2, 0.2],\n",
       "       [0.2, 0.2, 0.2, 0.2, 0.2],\n",
       "       [0.2, 0.2, 0.2, 0.2, 0.2],\n",
       "       [0.2, 0.2, 0.2, 0.2, 0.2],\n",
       "       [0.2, 0.2, 0.2, 0.2, 0.2],\n",
       "       [0.2, 0.2, 0.2, 0.2, 0.2]])"
      ]
     },
     "execution_count": 46,
     "metadata": {},
     "output_type": "execute_result"
    }
   ],
   "source": [
    "policy"
   ]
  },
  {
   "cell_type": "code",
   "execution_count": 52,
   "id": "71840522-21e3-4496-85f4-ffaf52e728c5",
   "metadata": {},
   "outputs": [],
   "source": [
    "policy = 0.2 * np.ones((rows*columns,5))\n",
    "episodes = [gridworld.getTrajectoryScore(nowState = random.randint(0,24),action = random.randint(0,4),policy = policy,steps = 500) \n",
    "            for i in range(500)]"
   ]
  },
  {
   "cell_type": "code",
   "execution_count": 83,
   "id": "7ad5762c-1240-49f6-9463-225d70cff032",
   "metadata": {},
   "outputs": [],
   "source": [
    "state_value = np.random.randn(25)\n",
    "learning_rate = 0.0001\n",
    "for i in range(500):\n",
    "    for trajectory in episodes[i]:\n",
    "        tmpstate, tmpaction, tmpscore, nextState, nextAction = trajectory\n",
    "        TD_error = state_value[tmpstate] - (tmpscore + gamma * state_value[nextState])\n",
    "        state_value[tmpstate] = state_value[tmpstate] - learning_rate * TD_error"
   ]
  },
  {
   "cell_type": "code",
   "execution_count": 84,
   "id": "b557f7ca-8af1-43c8-94fd-a3c19d370024",
   "metadata": {},
   "outputs": [],
   "source": [
    "state_value = np.round(state_value,decimals=3).reshape(5,5)"
   ]
  },
  {
   "cell_type": "code",
   "execution_count": 85,
   "id": "eea8a3a7-b607-44b3-867c-972c1be707f3",
   "metadata": {},
   "outputs": [],
   "source": [
    "import matplotlib.pyplot as plt\n",
    "from mpl_toolkits.mplot3d import Axes3D"
   ]
  },
  {
   "cell_type": "code",
   "execution_count": 86,
   "id": "fd3f03b2-8011-44cf-aaa1-479c71405976",
   "metadata": {},
   "outputs": [
    {
     "data": {
      "text/plain": [
       "<mpl_toolkits.mplot3d.art3d.Poly3DCollection at 0x224da589610>"
      ]
     },
     "execution_count": 86,
     "metadata": {},
     "output_type": "execute_result"
    },
    {
     "data": {
      "image/png": "[encoded data removed]",
      "text/plain": [
       "<Figure size 640x480 with 1 Axes>"
      ]
     },
     "metadata": {},
     "output_type": "display_data"
    }
   ],
   "source": [
    "x = np.linspace(0,5,5)\n",
    "y = np.linspace(0,5,5)\n",
    "\n",
    "X, Y = np.meshgrid(x,y)\n",
    "\n",
    "fig = plt.figure()\n",
    "ax = fig.add_subplot(111, projection = '3d')\n",
    "ax.plot_surface(Y,X,state_value, cmap='viridis')"
   ]
  },
  {
   "cell_type": "code",
   "execution_count": 87,
   "id": "bfb32ccf-e674-4c87-a36a-47e2f64e5b90",
   "metadata": {},
   "outputs": [
    {
     "data": {
      "text/plain": [
       "array([[-0.375, -1.536, -1.748,  0.029,  0.831],\n",
       "       [-1.366, -2.764, -4.988, -2.3  , -0.194],\n",
       "       [-0.591, -4.886, -3.955, -3.582, -0.922],\n",
       "       [-2.482, -3.748, -4.805, -1.571, -1.78 ],\n",
       "       [-3.251, -4.049, -2.392, -1.746, -0.719]])"
      ]
     },
     "execution_count": 87,
     "metadata": {},
     "output_type": "execute_result"
    }
   ],
   "source": [
    "state_value"
   ]
  },
  {
   "cell_type": "code",
   "execution_count": null,
   "id": "ad4d0e51-d18d-4ec7-8753-3947d18fa357",
   "metadata": {},
   "outputs": [],
   "source": []
  }
 ],
 "metadata": {
  "kernelspec": {
   "display_name": "Python 3 (ipykernel)",
   "language": "python",
   "name": "python3"
  },
  "language_info": {
   "codemirror_mode": {
    "name": "ipython",
    "version": 3
   },
   "file_extension": ".py",
   "mimetype": "text/x-python",
   "name": "python",
   "nbconvert_exporter": "python",
   "pygments_lexer": "ipython3",
   "version": "3.8.18"
  }
 },
 "nbformat": 4,
 "nbformat_minor": 5
}
