{
 "cells": [
  {
   "cell_type": "code",
   "execution_count": 1,
   "id": "1cf583f4-f64e-4e36-b30e-1817ec400243",
   "metadata": {},
   "outputs": [],
   "source": [
    "import numpy as np     #只需要下载numpy库即可\n",
    "import random\n",
    "import GridWorld_v2\n",
    "import time\n",
    "from IPython.display import clear_output"
   ]
  },
  {
   "cell_type": "code",
   "execution_count": 32,
   "id": "541a7035-6a60-43be-b2dd-b444c48646d8",
   "metadata": {},
   "outputs": [
    {
     "name": "stdout",
     "output_type": "stream",
     "text": [
      "⬜️⬜️⬜️⬜️⬜️\n",
      "⬜️🚫🚫⬜️⬜️\n",
      "⬜️⬜️🚫⬜️⬜️\n",
      "⬜️🚫✅🚫⬜️\n",
      "⬜️🚫⬜️⬜️⬜️\n"
     ]
    }
   ],
   "source": [
    "\n",
    "\n",
    "rows = 5      #记得行数和列数这里要同步改\n",
    "columns = 5\n",
    "\n",
    "# gridworld = GridWorld_v2.GridWorld_v2(rows=rows, columns=columns, forbiddenAreaNums=8, targetNums=2, seed = 52,forbiddenAreaScore=-10)\n",
    "# gridworld = GridWorld_v2.GridWorld_v2(desc = [\".#\",\".T\"])             #赵老师4-1的例子\n",
    "# gridworld = GridWorld_v2.GridWorld_v2(desc = [\"##.T\",\"...#\",\"....\"])  #随便弄的例子\n",
    "gridworld = GridWorld_v2.GridWorld_v2(forbiddenAreaScore=-10, score=1,desc = [\".....\",\".##..\",\"..#..\",\".#T#.\",\".#...\"]) \n",
    "#gridworld = GridWorld_v2(forbiddenAreaScore=-10, score=1,desc = [\"T.\"]) \n",
    "gridworld.show()\n",
    "\n",
    "\n",
    "value = np.zeros(rows*columns)       #初始化可以任意，也可以全0\n",
    "qtable = np.zeros((rows*columns,5))  #初始化，这里主要是初始化维数，里面的内容会被覆盖所以无所谓\n"
   ]
  },
  {
   "cell_type": "code",
   "execution_count": 109,
   "id": "9106e6ee-ba75-4ed4-987e-31f6192c58b2",
   "metadata": {},
   "outputs": [],
   "source": [
    "def n_step_SARSA(gridworld:GridWorld_v2.GridWorld_v2,sarsaStep=5,epsilon=0.5,trajectorySteps=-1, learning_rate=0.001, final_epsilon=0.01, num_episodes=600, gamma = 0.9)->GridWorld_v2.GridWorld_v2:\n",
    "    \"\"\"\n",
    "    这是最基础的SARSA算法\n",
    "\n",
    "    Parameters:\n",
    "    trajectorySteps (int): 寻路的轨迹长度，如果是-1，则为寻到目的则停止，否则参数即为trajectory长度\n",
    "    learning_rate (float): 学习率，用于调节TD-target\n",
    "    final_epsilon (float): epsilon-greedy的核心参数，0~1的浮点数，其中1则表示当前state所有决策概率一样，0则表示决策没有任何的随机性\n",
    "    num_episodes (int): 表示模型迭代次数\n",
    "    step(int): 表示SARSA向前计算的步数\n",
    "\n",
    "    Returns:\n",
    "    GridWorld_v2.GridWorld_v2: 把模型返回回去\n",
    "    \"\"\"\n",
    "    \n",
    "    state_value = np.zeros((rows * columns))\n",
    "    action_value = np.zeros((rows * columns, 5))\n",
    "    policy = np.eye(5)[np.random.randint(0,5,size=(rows*columns))] \n",
    "    for episode in range(num_episodes):\n",
    "        #清除输出，可以更好的展示策略\n",
    "        time.sleep(0.2)\n",
    "        clear_output(wait=True)\n",
    "        \n",
    "        print(\"episode\",f\"{episode}/{num_episodes}\")\n",
    "        if(epsilon > final_epsilon) :\n",
    "            epsilon -= 0.001\n",
    "        else:\n",
    "            epsilon = final_epsilon\n",
    "\n",
    "        # p1是目标方向的概率，p0是另外四个方向的概率\n",
    "        p1 = 1-epsilon * (4/5)\n",
    "        p0 = epsilon/5\n",
    "        d = {1:p1, 0:p0}\n",
    "        # policy_epsilon是policy取epsilon-greedy的概率决策\n",
    "        print(\"p1\",p1,\"p0\",p0)\n",
    "        policy_epsilon = np.vectorize(d.get)(policy)\n",
    "\n",
    "        #cnt数组用来检查每个state有多少次访问\n",
    "        cnt = [0 for i in range(25)]\n",
    "        \n",
    "        initState=10\n",
    "        initAction=random.randint(0,4)  \n",
    "\n",
    "        if trajectorySteps==-1:\n",
    "            stop_when_reach_target = True\n",
    "        Trajectory = gridworld.getTrajectoryScore(nowState=initState, \n",
    "                                                  action=initAction, \n",
    "                                                  policy=policy_epsilon, \n",
    "                                                  steps=trajectorySteps, \n",
    "                                                  stop_when_reach_target=True)\n",
    "        print(\"trajectorySteps\",len(Trajectory))\n",
    "        \n",
    "\n",
    "        \n",
    "        # 注意这里的返回值是大小为(trajectorySteps+1)的元组列表，因为把第一个动作也加入进去了\n",
    "        \n",
    "        steps = len(Trajectory)\n",
    "        if steps>trajectorySteps:\n",
    "            continue\n",
    "        g = 1\n",
    "        reward = 0\n",
    "        for k in range(0, steps, 1):\n",
    "            tmpstate, tmpaction, tmpscore, nextState, nextAction  = Trajectory[k]\n",
    "            reward += tmpscore * g\n",
    "            g *= gamma\n",
    "        print(\"Trajectory_score\", reward)\n",
    "\n",
    "\n",
    "        \n",
    "        for k in range(0, steps - sarsaStep + 1, 1):\n",
    "            #State，Action，Reward，NextState，NextAction\n",
    "            cnt[Trajectory[k][0]] += 1\n",
    "            #n-step-SARSA \n",
    "            nowState,nowAction = -1,-1\n",
    "            g = 1\n",
    "            reward = 0\n",
    "            for i in range(sarsaStep):\n",
    "                #State，Action，Reward，NextState，NextAction\n",
    "                tmpstate, tmpaction, tmpscore, nextState, nextAction  = Trajectory[k+i]\n",
    "                if nowState == -1:\n",
    "                    nowState, nowAction = tmpstate, tmpaction\n",
    "                reward += tmpscore * g\n",
    "                g *= gamma\n",
    "            reward += g*action_value[nextState][nextAction]\n",
    "            \n",
    "            TD_error = action_value[nowState][nowAction] - reward\n",
    "            action_value[nowState][nowAction] -= learning_rate * TD_error\n",
    "\n",
    "        for k in range(steps - sarsaStep+1, steps, 1):\n",
    "            # print(k)\n",
    "            #State，Action，Reward，NextState，NextAction\n",
    "            tmpstate, tmpaction, tmpscore, nextState, nextAction  = Trajectory[k]\n",
    "            cnt[tmpstate] += 1\n",
    "            TD_error = action_value[tmpstate][tmpaction] - (tmpscore + gamma * action_value[nextState][nextAction])\n",
    "            action_value[tmpstate][tmpaction] -= learning_rate * TD_error\n",
    "\n",
    "\n",
    "        # policy improvement\n",
    "        policy = np.eye(5)[np.argmax(action_value,axis=1)]  #qtable的最优值作为更新策略，并用独热码来表示\n",
    "        policy_epsilon = np.vectorize(d.get)(policy)\n",
    "    \n",
    "        #输出每个state的访问次数\n",
    "        print(np.array(cnt).reshape(5,5)) \n",
    "\n",
    "        state_value = np.sum(policy_epsilon * action_value,axis=1)\n",
    "        mean_state_value = np.sum(policy_epsilon * action_value,axis=1).mean()\n",
    "        \n",
    "        gridworld.showPolicy(policy)\n",
    "        print(np.round(action_value,decimals=3).reshape(-1,5))\n",
    "        print(np.round(state_value,decimals=4).reshape(5,5))\n",
    "        print(\"mean_state_value\", mean_state_value)\n",
    "\n",
    "    return gridworld\n",
    "    "
   ]
  },
  {
   "cell_type": "code",
   "execution_count": 110,
   "id": "ea719e1c-f5af-41e2-b17d-bf551e834593",
   "metadata": {},
   "outputs": [
    {
     "name": "stdout",
     "output_type": "stream",
     "text": [
      "episode 999/1000\n",
      "p1 0.9199999999999999 p0 0.02\n",
      "trajectorySteps 4\n",
      "Trajectory_score -7.949601\n",
      "[[0 0 0 0 0]\n",
      " [0 0 0 0 0]\n",
      " [1 1 1 0 0]\n",
      " [0 0 1 0 0]\n",
      " [0 0 0 0 0]]\n",
      "➡️➡️➡️➡️⬇️\n",
      "⬆️⏬⏩️➡️⬇️\n",
      "⬆️⬅️⏬⬆️⬇️\n",
      "⬆️⏩️✅⏪⬇️\n",
      "🔄⏩️⬆️⬅️⬅️\n",
      "[[-8.990e-01 -6.370e-01 -6.610e-01 -6.820e-01 -6.550e-01]\n",
      " [-1.060e+00 -4.690e-01 -1.191e+00 -4.840e-01 -4.900e-01]\n",
      " [-9.870e-01 -3.110e-01 -1.145e+00 -3.190e-01 -3.400e-01]\n",
      " [-6.160e-01 -3.560e-01 -4.010e-01 -4.240e-01 -3.980e-01]\n",
      " [-7.350e-01 -5.260e-01 -2.910e-01 -4.010e-01 -4.360e-01]\n",
      " [-5.710e-01 -2.122e+00 -6.130e-01 -9.420e-01 -6.120e-01]\n",
      " [-2.020e-01 -2.720e-01 -1.930e-01 -2.060e-01 -3.560e-01]\n",
      " [-1.630e-01 -1.090e-01 -2.290e-01 -2.070e-01 -1.500e-01]\n",
      " [-1.940e-01 -1.720e-01 -2.090e-01 -1.083e+00 -1.910e-01]\n",
      " [-4.050e-01 -5.900e-01 -2.750e-01 -5.050e-01 -4.610e-01]\n",
      " [-8.250e-01 -9.960e-01 -8.500e-01 -1.026e+00 -8.330e-01]\n",
      " [-6.960e-01 -4.470e-01 -4.960e-01 -3.740e-01 -3.760e-01]\n",
      " [-1.510e-01 -1.200e-02  6.400e-02 -5.800e-02 -4.200e-02]\n",
      " [-1.060e-01 -1.140e-01 -2.680e-01 -3.380e-01 -1.080e-01]\n",
      " [-3.140e-01 -6.880e-01 -1.670e-01 -4.120e-01 -3.380e-01]\n",
      " [-6.310e-01 -1.380e+00 -6.330e-01 -6.460e-01 -6.480e-01]\n",
      " [-6.000e-02  1.500e-01 -2.000e-01 -5.000e-03 -1.940e-01]\n",
      " [-2.760e-01 -2.550e-01  7.000e-03 -4.090e-01  8.030e-01]\n",
      " [-1.000e-03 -0.000e+00 -1.900e-02  1.230e-01 -9.900e-02]\n",
      " [-1.350e-01 -1.320e-01  1.100e-02 -6.270e-01 -1.300e-01]\n",
      " [-4.750e-01 -8.390e-01 -5.550e-01 -4.810e-01 -4.740e-01]\n",
      " [-1.160e-01  1.100e-02 -6.100e-02 -4.800e-02 -4.420e-01]\n",
      " [ 7.190e-01 -6.000e-03 -3.900e-02 -1.490e-01  1.900e-02]\n",
      " [-2.540e-01 -5.500e-02 -5.100e-02  6.120e-01 -3.700e-02]\n",
      " [-1.130e-01 -1.430e-01 -1.250e-01  3.770e-01 -1.680e-01]]\n",
      "[[-0.6441 -0.496  -0.3423 -0.3645 -0.31  ]\n",
      " [-0.6106 -0.1982 -0.1152 -0.1919 -0.2923]\n",
      " [-0.8331 -0.3841  0.0539 -0.1145 -0.1884]\n",
      " [-0.6468  0.1289  0.7202  0.111  -0.01  ]\n",
      " [-0.4834 -0.0034  0.6577  0.5548  0.3355]]\n",
      "mean_state_value -0.14668050187243195\n"
     ]
    },
    {
     "data": {
      "text/plain": [
       "<GridWorld_v2.GridWorld_v2 at 0x1c8e0ecf760>"
      ]
     },
     "execution_count": 110,
     "metadata": {},
     "output_type": "execute_result"
    }
   ],
   "source": [
    "n_step_SARSA(gridworld,sarsaStep = 3, trajectorySteps=5000,final_epsilon=0.1,num_episodes = 1000,gamma = 0.99)"
   ]
  },
  {
   "cell_type": "code",
   "execution_count": 94,
   "id": "e8891dec-e970-47b6-b65e-63c2ec907bf8",
   "metadata": {},
   "outputs": [
    {
     "name": "stdout",
     "output_type": "stream",
     "text": [
      "episode 599/600\n",
      "p1 0.992 p0 0.002\n",
      "trajectorySteps 20001\n"
     ]
    },
    {
     "data": {
      "text/plain": [
       "<GridWorld_v2.GridWorld_v2 at 0x1c8e0ecf760>"
      ]
     },
     "execution_count": 94,
     "metadata": {},
     "output_type": "execute_result"
    }
   ],
   "source": [
    "n_step_SARSA(gridworld,sarsaStep = 2, trajectorySteps=5000)"
   ]
  },
  {
   "cell_type": "code",
   "execution_count": 114,
   "id": "cf4d09fc-f037-44fd-acea-c1765cf78f62",
   "metadata": {},
   "outputs": [
    {
     "name": "stdout",
     "output_type": "stream",
     "text": [
      "[0.9, 0.81, 0.72, 0.65, 0.59, 0.53, 0.47, 0.43, 0.38, 0.34, 0.31, 0.28, 0.25, 0.22, 0.2]\n"
     ]
    }
   ],
   "source": [
    "g = 1\n",
    "res = []\n",
    "for i in range(15):\n",
    "    g *= 0.9\n",
    "    res.append(g*100//1/100)\n",
    "print(res)"
   ]
  },
  {
   "cell_type": "code",
   "execution_count": 115,
   "id": "9342aef4-7e29-4a05-acce-214b26f05b5b",
   "metadata": {},
   "outputs": [
    {
     "name": "stdout",
     "output_type": "stream",
     "text": [
      "[0.99, 0.98, 0.97, 0.96, 0.95, 0.94, 0.93, 0.92, 0.91, 0.9, 0.89, 0.88, 0.87, 0.86, 0.86]\n"
     ]
    }
   ],
   "source": [
    "g = 1\n",
    "res = []\n",
    "for i in range(15):\n",
    "    g *= 0.99\n",
    "    res.append(g*100//1/100)\n",
    "print(res)"
   ]
  },
  {
   "cell_type": "code",
   "execution_count": null,
   "id": "984c8f9d-3531-4614-9b83-933a97f7b1fc",
   "metadata": {},
   "outputs": [],
   "source": []
  }
 ],
 "metadata": {
  "kernelspec": {
   "display_name": "Python 3 (ipykernel)",
   "language": "python",
   "name": "python3"
  },
  "language_info": {
   "codemirror_mode": {
    "name": "ipython",
    "version": 3
   },
   "file_extension": ".py",
   "mimetype": "text/x-python",
   "name": "python",
   "nbconvert_exporter": "python",
   "pygments_lexer": "ipython3",
   "version": "3.8.18"
  }
 },
 "nbformat": 4,
 "nbformat_minor": 5
}
